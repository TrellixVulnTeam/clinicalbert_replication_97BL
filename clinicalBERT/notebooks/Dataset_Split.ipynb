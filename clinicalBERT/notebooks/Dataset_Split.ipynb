{
  "cells": [
    {
      "cell_type": "code",
      "execution_count": null,
      "metadata": {
        "collapsed": true,
        "id": "CDQUfyf0RnJv"
      },
      "outputs": [],
      "source": [
        "import pandas as pd\n",
        "import numpy as np\n",
        "import matplotlib.pyplot as plt"
      ]
    },
    {
      "cell_type": "code",
      "source": [
        "from google.colab import drive\n",
        "drive.mount('/content/gdrive', force_remount=True)\n",
        "%cd '/content/gdrive/My Drive/Colab Notebooks/DL4H Project' "
      ],
      "metadata": {
        "colab": {
          "base_uri": "https://localhost:8080/"
        },
        "id": "hnyXYUixRr0F",
        "outputId": "1fdbb79a-4ad4-439c-ee32-8ac57e28858d"
      },
      "execution_count": null,
      "outputs": [
        {
          "output_type": "stream",
          "name": "stdout",
          "text": [
            "Mounted at /content/gdrive\n",
            "/content/gdrive/My Drive/Colab Notebooks/DL4H Project\n"
          ]
        }
      ]
    },
    {
      "cell_type": "code",
      "execution_count": null,
      "metadata": {
        "collapsed": true,
        "id": "TKdTnkHiRnJw"
      },
      "outputs": [],
      "source": [
        "df_adm = pd.read_csv('./Data/ADMISSIONS.csv')"
      ]
    },
    {
      "cell_type": "code",
      "execution_count": null,
      "metadata": {
        "id": "z-LyUtxKRnJx",
        "colab": {
          "base_uri": "https://localhost:8080/"
        },
        "outputId": "34062f4c-a36f-47f5-896f-d3bea905fc91"
      },
      "outputs": [
        {
          "output_type": "execute_result",
          "data": {
            "text/plain": [
              "46520"
            ]
          },
          "metadata": {},
          "execution_count": 6
        }
      ],
      "source": [
        "len(df_adm.groupby(['SUBJECT_ID']))"
      ]
    },
    {
      "cell_type": "code",
      "execution_count": null,
      "metadata": {
        "id": "FQOpvDG8RnJy",
        "colab": {
          "base_uri": "https://localhost:8080/"
        },
        "outputId": "a52b1cd7-e9d0-4d4c-ab17-b22f57f434f7"
      },
      "outputs": [
        {
          "output_type": "execute_result",
          "data": {
            "text/plain": [
              "58976"
            ]
          },
          "metadata": {},
          "execution_count": 7
        }
      ],
      "source": [
        "len(df_adm.groupby(['HADM_ID'])['HADM_ID'])"
      ]
    },
    {
      "cell_type": "code",
      "execution_count": null,
      "metadata": {
        "collapsed": true,
        "id": "eTHd_CeFRnJy"
      },
      "outputs": [],
      "source": [
        "df_adm.ADMITTIME = pd.to_datetime(df_adm.ADMITTIME, format = '%Y-%m-%d %H:%M:%S', errors = 'coerce')\n",
        "df_adm.DISCHTIME = pd.to_datetime(df_adm.DISCHTIME, format = '%Y-%m-%d %H:%M:%S', errors = 'coerce')\n",
        "df_adm.DEATHTIME = pd.to_datetime(df_adm.DEATHTIME, format = '%Y-%m-%d %H:%M:%S', errors = 'coerce')"
      ]
    },
    {
      "cell_type": "code",
      "execution_count": null,
      "metadata": {
        "collapsed": true,
        "id": "N0xHVN8qRnJz"
      },
      "outputs": [],
      "source": [
        "df_adm = df_adm.sort_values(['SUBJECT_ID','ADMITTIME'])\n",
        "df_adm = df_adm.reset_index(drop = True)"
      ]
    },
    {
      "cell_type": "code",
      "execution_count": null,
      "metadata": {
        "collapsed": true,
        "id": "jfb_CjmfRnJz"
      },
      "outputs": [],
      "source": [
        "df_adm['NEXT_ADMITTIME'] = df_adm.groupby('SUBJECT_ID').ADMITTIME.shift(-1)"
      ]
    },
    {
      "cell_type": "code",
      "execution_count": null,
      "metadata": {
        "collapsed": true,
        "id": "wnYb8iTkRnJ0"
      },
      "outputs": [],
      "source": [
        "df_adm['NEXT_ADMISSION_TYPE'] = df_adm.groupby('SUBJECT_ID').ADMISSION_TYPE.shift(-1)"
      ]
    },
    {
      "cell_type": "code",
      "execution_count": null,
      "metadata": {
        "collapsed": true,
        "id": "XLdwU7vaRnJ0"
      },
      "outputs": [],
      "source": [
        "rows = df_adm.NEXT_ADMISSION_TYPE == 'ELECTIVE'\n",
        "df_adm.loc[rows,'NEXT_ADMITTIME'] = pd.NaT\n",
        "df_adm.loc[rows,'NEXT_ADMISSION_TYPE'] = np.NaN"
      ]
    },
    {
      "cell_type": "code",
      "execution_count": null,
      "metadata": {
        "collapsed": true,
        "id": "sIcf2akNRnJ1"
      },
      "outputs": [],
      "source": [
        "df_adm = df_adm.sort_values(['SUBJECT_ID','ADMITTIME'])\n",
        "\n",
        "df_adm[['NEXT_ADMITTIME','NEXT_ADMISSION_TYPE']] = df_adm.groupby(['SUBJECT_ID'])[['NEXT_ADMITTIME','NEXT_ADMISSION_TYPE']].fillna(method = 'bfill')"
      ]
    },
    {
      "cell_type": "code",
      "execution_count": null,
      "metadata": {
        "collapsed": true,
        "id": "-LBXJ8bJRnJ2"
      },
      "outputs": [],
      "source": [
        "df_adm['DAYS_NEXT_ADMIT']=  (df_adm.NEXT_ADMITTIME - df_adm.DISCHTIME).dt.total_seconds()/(24*60*60)"
      ]
    },
    {
      "cell_type": "code",
      "execution_count": null,
      "metadata": {
        "collapsed": true,
        "id": "-Te2NjUBRnJ2"
      },
      "outputs": [],
      "source": [
        "df_adm1 = df_adm[['SUBJECT_ID','HADM_ID','ADMITTIME','DISCHTIME','DAYS_NEXT_ADMIT','NEXT_ADMITTIME','ADMISSION_TYPE','DEATHTIME']]"
      ]
    },
    {
      "cell_type": "code",
      "execution_count": null,
      "metadata": {
        "id": "tmHeS6miRnJ2",
        "colab": {
          "base_uri": "https://localhost:8080/"
        },
        "outputId": "739f68a5-a301-43cb-eb6a-32cb2f4cdebd"
      },
      "outputs": [
        {
          "output_type": "stream",
          "name": "stderr",
          "text": [
            "/usr/local/lib/python3.7/dist-packages/ipykernel_launcher.py:1: SettingWithCopyWarning: \n",
            "A value is trying to be set on a copy of a slice from a DataFrame.\n",
            "Try using .loc[row_indexer,col_indexer] = value instead\n",
            "\n",
            "See the caveats in the documentation: https://pandas.pydata.org/pandas-docs/stable/user_guide/indexing.html#returning-a-view-versus-a-copy\n",
            "  \"\"\"Entry point for launching an IPython kernel.\n"
          ]
        }
      ],
      "source": [
        "df_adm1['OUTPUT_LABEL'] = (df_adm1.DAYS_NEXT_ADMIT < 30).astype('int')"
      ]
    },
    {
      "cell_type": "code",
      "execution_count": null,
      "metadata": {
        "id": "oZ0QX-uERnJ3",
        "colab": {
          "base_uri": "https://localhost:8080/"
        },
        "outputId": "a96803bf-3cd0-443d-dfd0-c7e02201c30d"
      },
      "outputs": [
        {
          "output_type": "stream",
          "name": "stderr",
          "text": [
            "/usr/local/lib/python3.7/dist-packages/ipykernel_launcher.py:1: SettingWithCopyWarning: \n",
            "A value is trying to be set on a copy of a slice from a DataFrame.\n",
            "Try using .loc[row_indexer,col_indexer] = value instead\n",
            "\n",
            "See the caveats in the documentation: https://pandas.pydata.org/pandas-docs/stable/user_guide/indexing.html#returning-a-view-versus-a-copy\n",
            "  \"\"\"Entry point for launching an IPython kernel.\n"
          ]
        }
      ],
      "source": [
        "df_adm1['STAY_DAYS']=  (df_adm1.DISCHTIME - df_adm1.ADMITTIME).dt.total_seconds()/(24*60*60)"
      ]
    },
    {
      "cell_type": "code",
      "execution_count": null,
      "metadata": {
        "id": "8xHn7En5RnJ3",
        "colab": {
          "base_uri": "https://localhost:8080/"
        },
        "outputId": "f7e7bfba-abe2-46f0-eec1-06918adb8a1e"
      },
      "outputs": [
        {
          "output_type": "stream",
          "name": "stderr",
          "text": [
            "/usr/local/lib/python3.7/dist-packages/pandas/core/indexing.py:1817: SettingWithCopyWarning: \n",
            "A value is trying to be set on a copy of a slice from a DataFrame.\n",
            "Try using .loc[row_indexer,col_indexer] = value instead\n",
            "\n",
            "See the caveats in the documentation: https://pandas.pydata.org/pandas-docs/stable/user_guide/indexing.html#returning-a-view-versus-a-copy\n",
            "  self._setitem_single_column(loc, value, pi)\n"
          ]
        }
      ],
      "source": [
        "df_adm1.loc[df_adm1.DEATHTIME.notnull(), 'OUTPUT_LABEL'] = 0"
      ]
    },
    {
      "cell_type": "code",
      "execution_count": null,
      "metadata": {
        "id": "mxNkrpQ9RnJ3",
        "colab": {
          "base_uri": "https://localhost:8080/"
        },
        "outputId": "3e745b60-e594-45e1-a63e-76af36d31490"
      },
      "outputs": [
        {
          "output_type": "execute_result",
          "data": {
            "text/plain": [
              "5854"
            ]
          },
          "metadata": {},
          "execution_count": 19
        }
      ],
      "source": [
        "len(df_adm1[df_adm1.DEATHTIME.notnull()])"
      ]
    },
    {
      "cell_type": "code",
      "execution_count": null,
      "metadata": {
        "id": "QXTbAUOvRnJ4",
        "colab": {
          "base_uri": "https://localhost:8080/"
        },
        "outputId": "9ce5c2e0-0411-4c8e-a18f-ab4b732b8001"
      },
      "outputs": [
        {
          "output_type": "execute_result",
          "data": {
            "text/plain": [
              "0    55790\n",
              "1     3186\n",
              "Name: OUTPUT_LABEL, dtype: int64"
            ]
          },
          "metadata": {},
          "execution_count": 20
        }
      ],
      "source": [
        "df_adm1.OUTPUT_LABEL.value_counts()"
      ]
    },
    {
      "cell_type": "code",
      "execution_count": null,
      "metadata": {
        "collapsed": true,
        "id": "gCrni7Y9RnJ4"
      },
      "outputs": [],
      "source": [
        "# drop newborn \n",
        "df_adm1 = df_adm1[df_adm1['ADMISSION_TYPE']!='NEWBORN']"
      ]
    },
    {
      "cell_type": "code",
      "execution_count": null,
      "metadata": {
        "id": "gfCwGSycRnJ4",
        "colab": {
          "base_uri": "https://localhost:8080/"
        },
        "outputId": "c9662e07-af3d-4cb6-b952-2cb32faddcba"
      },
      "outputs": [
        {
          "output_type": "execute_result",
          "data": {
            "text/plain": [
              "0    48150\n",
              "1     2963\n",
              "Name: OUTPUT_LABEL, dtype: int64"
            ]
          },
          "metadata": {},
          "execution_count": 22
        }
      ],
      "source": [
        "df_adm1.OUTPUT_LABEL.value_counts()"
      ]
    },
    {
      "cell_type": "code",
      "execution_count": null,
      "metadata": {
        "collapsed": true,
        "id": "kvXfWDQjRnJ5"
      },
      "outputs": [],
      "source": [
        "#drop death\n",
        "df_adm1 = df_adm1[df_adm1.DEATHTIME.isnull()]"
      ]
    },
    {
      "cell_type": "code",
      "execution_count": null,
      "metadata": {
        "id": "doMusqgrRnJ5",
        "colab": {
          "base_uri": "https://localhost:8080/"
        },
        "outputId": "869e984a-ab81-4799-ec0f-c3f7c0c40c59"
      },
      "outputs": [
        {
          "output_type": "execute_result",
          "data": {
            "text/plain": [
              "0    42358\n",
              "1     2963\n",
              "Name: OUTPUT_LABEL, dtype: int64"
            ]
          },
          "metadata": {},
          "execution_count": 24
        }
      ],
      "source": [
        "df_adm1.OUTPUT_LABEL.value_counts()"
      ]
    },
    {
      "cell_type": "code",
      "execution_count": null,
      "metadata": {
        "id": "XAXpEN7fRnJ5",
        "colab": {
          "base_uri": "https://localhost:8080/"
        },
        "outputId": "880f7e02-9a56-4ba6-9106-34c395a82ca8"
      },
      "outputs": [
        {
          "output_type": "execute_result",
          "data": {
            "text/plain": [
              "34560"
            ]
          },
          "metadata": {},
          "execution_count": 25
        }
      ],
      "source": [
        "len(df_adm1.groupby('SUBJECT_ID')['SUBJECT_ID'].unique())"
      ]
    },
    {
      "cell_type": "markdown",
      "metadata": {
        "id": "xo4mhAsSRnJ6"
      },
      "source": [
        "# Split"
      ]
    },
    {
      "cell_type": "code",
      "execution_count": null,
      "metadata": {
        "collapsed": true,
        "id": "8Nwm0rsZRnJ7"
      },
      "outputs": [],
      "source": [
        "readmit_ID = df_adm1[df_adm1.OUTPUT_LABEL == 1].HADM_ID"
      ]
    },
    {
      "cell_type": "code",
      "execution_count": null,
      "metadata": {
        "collapsed": true,
        "id": "5LTIpmg8RnJ7"
      },
      "outputs": [],
      "source": [
        "not_readmit_ID = df_adm1[df_adm1.OUTPUT_LABEL == 0].HADM_ID"
      ]
    },
    {
      "cell_type": "code",
      "execution_count": null,
      "metadata": {
        "collapsed": true,
        "id": "Iydi9BFNRnJ7"
      },
      "outputs": [],
      "source": [
        "not_readmit_ID_use = not_readmit_ID.sample(n=len(readmit_ID), random_state=1)"
      ]
    },
    {
      "cell_type": "code",
      "execution_count": null,
      "metadata": {
        "collapsed": true,
        "id": "0z-_8jLpRnJ7"
      },
      "outputs": [],
      "source": [
        "id_val_test_t=readmit_ID.sample(frac=0.2,random_state=1)\n",
        "id_val_test_f=not_readmit_ID_use.sample(frac=0.2,random_state=1)"
      ]
    },
    {
      "cell_type": "code",
      "execution_count": null,
      "metadata": {
        "collapsed": true,
        "id": "hrkV49pdRnJ8"
      },
      "outputs": [],
      "source": [
        "id_train_t = readmit_ID.drop(id_val_test_t.index)"
      ]
    },
    {
      "cell_type": "code",
      "execution_count": null,
      "metadata": {
        "collapsed": true,
        "id": "X3uTxKj5RnJ8"
      },
      "outputs": [],
      "source": [
        "id_train_f = not_readmit_ID_use.drop(id_val_test_f.index)"
      ]
    },
    {
      "cell_type": "code",
      "execution_count": null,
      "metadata": {
        "collapsed": true,
        "id": "gcgWpmy8RnJ8"
      },
      "outputs": [],
      "source": [
        "id_val_t=id_val_test_t.sample(frac=0.5,random_state=1)\n",
        "id_test_t=id_val_test_t.drop(id_val_t.index)\n",
        "\n",
        "id_val_f=id_val_test_f.sample(frac=0.5,random_state=1)\n",
        "id_test_f=id_val_test_f.drop(id_val_f.index)"
      ]
    },
    {
      "cell_type": "code",
      "execution_count": null,
      "metadata": {
        "id": "m0pjoRFPRnJ8",
        "colab": {
          "base_uri": "https://localhost:8080/"
        },
        "outputId": "1cdb3ba4-5014-44be-cc4f-4913a43c6e07"
      },
      "outputs": [
        {
          "output_type": "execute_result",
          "data": {
            "text/plain": [
              "array([], dtype=int64)"
            ]
          },
          "metadata": {},
          "execution_count": 33
        }
      ],
      "source": [
        "(pd.Index(id_test_t).intersection(pd.Index(id_train_t))).values"
      ]
    },
    {
      "cell_type": "code",
      "execution_count": null,
      "metadata": {
        "collapsed": true,
        "id": "twgvj4TpRnJ9"
      },
      "outputs": [],
      "source": [
        "id_test = pd.concat([id_test_t, id_test_f])"
      ]
    },
    {
      "cell_type": "code",
      "execution_count": null,
      "metadata": {
        "id": "OLFM9hE1RnJ9",
        "colab": {
          "base_uri": "https://localhost:8080/"
        },
        "outputId": "ce5d21e5-792a-400c-f951-ce22c7a62130"
      },
      "outputs": [
        {
          "output_type": "execute_result",
          "data": {
            "text/plain": [
              "594"
            ]
          },
          "metadata": {},
          "execution_count": 35
        }
      ],
      "source": [
        "len(id_test)"
      ]
    },
    {
      "cell_type": "code",
      "execution_count": null,
      "metadata": {
        "collapsed": true,
        "id": "BJwh6mDoRnJ9"
      },
      "outputs": [],
      "source": [
        "id_val = pd.concat([id_val_t, id_val_f])"
      ]
    },
    {
      "cell_type": "code",
      "execution_count": null,
      "metadata": {
        "id": "v4JNLFgCRnJ9",
        "colab": {
          "base_uri": "https://localhost:8080/"
        },
        "outputId": "44bb1da6-019b-42e1-8bf9-35d5fe25ae57"
      },
      "outputs": [
        {
          "output_type": "execute_result",
          "data": {
            "text/plain": [
              "592"
            ]
          },
          "metadata": {},
          "execution_count": 37
        }
      ],
      "source": [
        "len(id_val)"
      ]
    },
    {
      "cell_type": "code",
      "execution_count": null,
      "metadata": {
        "collapsed": true,
        "id": "CJ5K4tcjRnJ9"
      },
      "outputs": [],
      "source": [
        "id_train = pd.concat([id_train_t, id_train_f])\n",
        "train_id_label = pd.DataFrame(data = list(zip(id_train, [1]*len(id_train_t)+[0]*len(id_train_f))), columns = ['id','label'])"
      ]
    },
    {
      "cell_type": "code",
      "execution_count": null,
      "metadata": {
        "collapsed": true,
        "id": "5vfmnTVdRnJ-"
      },
      "outputs": [],
      "source": [
        "id_val = pd.concat([id_val_t, id_val_f])\n",
        "val_id_label = pd.DataFrame(data = list(zip(id_val, [1]*len(id_val_t)+[0]*len(id_val_f))), columns = ['id','label'])"
      ]
    },
    {
      "cell_type": "code",
      "execution_count": null,
      "metadata": {
        "collapsed": true,
        "id": "GXUHrYJ2RnJ-"
      },
      "outputs": [],
      "source": [
        "id_test = pd.concat([id_test_t, id_test_f])\n",
        "test_id_label = pd.DataFrame(data = list(zip(id_test, [1]*len(id_test_t)+[0]*len(id_test_f))), columns = ['id','label'])"
      ]
    },
    {
      "cell_type": "code",
      "execution_count": null,
      "metadata": {
        "id": "r0uE-0gARnJ-",
        "colab": {
          "base_uri": "https://localhost:8080/"
        },
        "outputId": "36de5368-7c74-42a7-c441-85c39741b747"
      },
      "outputs": [
        {
          "output_type": "execute_result",
          "data": {
            "text/plain": [
              "array([], dtype=int64)"
            ]
          },
          "metadata": {},
          "execution_count": 41
        }
      ],
      "source": [
        "(pd.Index(train_id_label.id).intersection(pd.Index(test_id_label.id))).values"
      ]
    },
    {
      "cell_type": "code",
      "execution_count": null,
      "metadata": {
        "id": "4qQXJvNrRnJ-",
        "colab": {
          "base_uri": "https://localhost:8080/"
        },
        "outputId": "191a3810-d528-49ca-bae4-1879871ba91c"
      },
      "outputs": [
        {
          "output_type": "execute_result",
          "data": {
            "text/plain": [
              "4740"
            ]
          },
          "metadata": {},
          "execution_count": 42
        }
      ],
      "source": [
        "len(train_id_label)"
      ]
    },
    {
      "cell_type": "code",
      "execution_count": null,
      "metadata": {
        "collapsed": true,
        "id": "YDiOdHQlRnJ-"
      },
      "outputs": [],
      "source": [
        "train_id_label.to_csv('./good_datasets/good_train_id_label.csv')"
      ]
    },
    {
      "cell_type": "code",
      "execution_count": null,
      "metadata": {
        "collapsed": true,
        "id": "GExn_fh_RnJ_"
      },
      "outputs": [],
      "source": [
        "test_id_label.to_csv('./good_datasets/good_test_id_label.csv')"
      ]
    },
    {
      "cell_type": "code",
      "execution_count": null,
      "metadata": {
        "collapsed": true,
        "id": "gsrp_sBzRnJ_"
      },
      "outputs": [],
      "source": [
        "val_id_label.to_csv('./good_datasets/good_val_id_label.csv')"
      ]
    },
    {
      "cell_type": "markdown",
      "metadata": {
        "id": "5ycp5XZJRnJ_"
      },
      "source": [
        "## Discharge Processing"
      ]
    },
    {
      "cell_type": "code",
      "execution_count": null,
      "metadata": {
        "collapsed": true,
        "id": "krclbwM9RnJ_"
      },
      "outputs": [],
      "source": [
        "want=pd.read_csv('./readmission_task.csv')\n",
        "#want=pd.read_csv('./data/discharge/train.csv')\n",
        "#discharge summary task dataset "
      ]
    },
    {
      "cell_type": "code",
      "execution_count": null,
      "metadata": {
        "collapsed": true,
        "id": "rdFhf6okRnJ_"
      },
      "outputs": [],
      "source": [
        "discharge_train = want[want.ID.isin(train_id_label.id)]"
      ]
    },
    {
      "cell_type": "code",
      "execution_count": null,
      "metadata": {
        "id": "IE5GrbllRnJ_",
        "colab": {
          "base_uri": "https://localhost:8080/"
        },
        "outputId": "aaa5bcd0-1cdb-4139-b8a9-b5a4eb5940cc"
      },
      "outputs": [
        {
          "output_type": "execute_result",
          "data": {
            "text/plain": [
              "24396"
            ]
          },
          "metadata": {},
          "execution_count": 48
        }
      ],
      "source": [
        "len(discharge_train)"
      ]
    },
    {
      "cell_type": "code",
      "execution_count": null,
      "metadata": {
        "id": "3jsQ9dh6RnKA",
        "colab": {
          "base_uri": "https://localhost:8080/"
        },
        "outputId": "32f0c86f-08a0-41ad-ed5e-ed207785633c"
      },
      "outputs": [
        {
          "output_type": "execute_result",
          "data": {
            "text/plain": [
              "1.0    13134\n",
              "0.0    11262\n",
              "Name: Label, dtype: int64"
            ]
          },
          "metadata": {},
          "execution_count": 49
        }
      ],
      "source": [
        "discharge_train.Label.value_counts()"
      ]
    },
    {
      "cell_type": "code",
      "execution_count": null,
      "metadata": {
        "collapsed": true,
        "id": "GPn6WKc1RnKA"
      },
      "outputs": [],
      "source": [
        "discharge_val = want[want.ID.isin(val_id_label.id)]"
      ]
    },
    {
      "cell_type": "code",
      "execution_count": null,
      "metadata": {
        "id": "IBxSBli5RnKA",
        "colab": {
          "base_uri": "https://localhost:8080/"
        },
        "outputId": "53eca14f-a555-40b1-9168-29a0238e097f"
      },
      "outputs": [
        {
          "output_type": "execute_result",
          "data": {
            "text/plain": [
              "1.0    1613\n",
              "0.0    1424\n",
              "Name: Label, dtype: int64"
            ]
          },
          "metadata": {},
          "execution_count": 51
        }
      ],
      "source": [
        "discharge_val.Label.value_counts()"
      ]
    },
    {
      "cell_type": "code",
      "execution_count": null,
      "metadata": {
        "collapsed": true,
        "id": "DWtOti_9RnKA"
      },
      "outputs": [],
      "source": [
        "discharge_test = want[want.ID.isin(test_id_label.id)]"
      ]
    },
    {
      "cell_type": "code",
      "execution_count": null,
      "metadata": {
        "id": "wyVrT5ZvRnKA",
        "colab": {
          "base_uri": "https://localhost:8080/"
        },
        "outputId": "5f217180-4089-4192-a7bf-fe81e9ed248c"
      },
      "outputs": [
        {
          "output_type": "execute_result",
          "data": {
            "text/plain": [
              "1.0    1697\n",
              "0.0    1366\n",
              "Name: Label, dtype: int64"
            ]
          },
          "metadata": {},
          "execution_count": 53
        }
      ],
      "source": [
        "discharge_test.Label.value_counts()"
      ]
    },
    {
      "cell_type": "code",
      "execution_count": null,
      "metadata": {
        "id": "qKqAnfz6RnKB",
        "colab": {
          "base_uri": "https://localhost:8080/"
        },
        "outputId": "eee48afa-3540-4e72-d646-8aed784a7c37"
      },
      "outputs": [
        {
          "output_type": "execute_result",
          "data": {
            "text/plain": [
              "594"
            ]
          },
          "metadata": {},
          "execution_count": 54
        }
      ],
      "source": [
        "len(test_id_label)"
      ]
    },
    {
      "cell_type": "code",
      "execution_count": null,
      "metadata": {
        "collapsed": true,
        "id": "5n1O1nuSRnKB"
      },
      "outputs": [],
      "source": [
        "df = pd.concat([not_readmit_ID_use, not_readmit_ID])\n",
        "df = df.drop_duplicates(keep=False)"
      ]
    },
    {
      "cell_type": "code",
      "execution_count": null,
      "metadata": {
        "id": "AHREXmyTRnKB",
        "colab": {
          "base_uri": "https://localhost:8080/"
        },
        "outputId": "ea32bbb2-77ac-42e2-8e6e-acfcdefd83e3"
      },
      "outputs": [
        {
          "output_type": "execute_result",
          "data": {
            "text/plain": [
              "array([], dtype=int64)"
            ]
          },
          "metadata": {},
          "execution_count": 56
        }
      ],
      "source": [
        "(pd.Index(df).intersection(pd.Index(not_readmit_ID_use))).values"
      ]
    },
    {
      "cell_type": "code",
      "execution_count": null,
      "metadata": {
        "collapsed": true,
        "id": "vbwCA9zzRnKB"
      },
      "outputs": [],
      "source": [
        "not_readmit_ID_more = df.sample(n=400, random_state=1)"
      ]
    },
    {
      "cell_type": "code",
      "execution_count": null,
      "metadata": {
        "collapsed": true,
        "id": "6vWz81wjRnKB"
      },
      "outputs": [],
      "source": [
        "dis_train = want[want.ID.isin(not_readmit_ID_more)]"
      ]
    },
    {
      "cell_type": "code",
      "execution_count": null,
      "metadata": {
        "id": "oE7Hp5mTRnKB",
        "colab": {
          "base_uri": "https://localhost:8080/"
        },
        "outputId": "399e878e-a565-45a5-b15b-f8d86967254b"
      },
      "outputs": [
        {
          "output_type": "execute_result",
          "data": {
            "text/plain": [
              "array([], dtype=float64)"
            ]
          },
          "metadata": {},
          "execution_count": 59
        }
      ],
      "source": [
        "(pd.Index(dis_train.ID).intersection(pd.Index(discharge_train.ID))).values"
      ]
    },
    {
      "cell_type": "code",
      "execution_count": null,
      "metadata": {
        "id": "rtXVHi4kRnKC",
        "colab": {
          "base_uri": "https://localhost:8080/"
        },
        "outputId": "672f3f0a-ed65-49e3-8b35-519d34f7db65"
      },
      "outputs": [
        {
          "output_type": "execute_result",
          "data": {
            "text/plain": [
              "1849"
            ]
          },
          "metadata": {},
          "execution_count": 60
        }
      ],
      "source": [
        "len(dis_train)"
      ]
    },
    {
      "cell_type": "code",
      "execution_count": null,
      "metadata": {
        "collapsed": true,
        "id": "EmmwXJXtRnKC"
      },
      "outputs": [],
      "source": [
        "discharge_train_snippets = pd.concat([dis_train, discharge_train])"
      ]
    },
    {
      "cell_type": "code",
      "execution_count": null,
      "metadata": {
        "collapsed": true,
        "id": "dDxDTZ4ERnKC"
      },
      "outputs": [],
      "source": [
        "discharge_train_snippets = discharge_train_snippets.sample(frac=1, random_state=1).reset_index(drop=True)"
      ]
    },
    {
      "cell_type": "code",
      "execution_count": null,
      "metadata": {
        "id": "MhwG6QwVRnKC",
        "colab": {
          "base_uri": "https://localhost:8080/"
        },
        "outputId": "102bd550-ebe3-4907-911e-8570f02d73b4"
      },
      "outputs": [
        {
          "output_type": "execute_result",
          "data": {
            "text/plain": [
              "1.0    13134\n",
              "0.0    13111\n",
              "Name: Label, dtype: int64"
            ]
          },
          "metadata": {},
          "execution_count": 63
        }
      ],
      "source": [
        "discharge_train_snippets.Label.value_counts()"
      ]
    },
    {
      "cell_type": "code",
      "execution_count": null,
      "metadata": {
        "collapsed": true,
        "id": "_BKrE3z0RnKC"
      },
      "outputs": [],
      "source": [
        "discharge_train_snippets.to_csv('./good_datasets/discharge/train.csv')"
      ]
    },
    {
      "cell_type": "code",
      "execution_count": null,
      "metadata": {
        "collapsed": true,
        "id": "--oS_GfnRnKD"
      },
      "outputs": [],
      "source": [
        "discharge_val.to_csv('./good_datasets/discharge/val.csv')"
      ]
    },
    {
      "cell_type": "code",
      "execution_count": null,
      "metadata": {
        "collapsed": true,
        "id": "8LR0qw9ERnKD"
      },
      "outputs": [],
      "source": [
        "discharge_test.to_csv('./good_datasets/discharge/test.csv')"
      ]
    },
    {
      "cell_type": "markdown",
      "metadata": {
        "id": "Il4NL1DzRnKD"
      },
      "source": [
        "## Now For Early Notes"
      ]
    },
    {
      "cell_type": "code",
      "execution_count": null,
      "metadata": {
        "collapsed": true,
        "id": "WBmXc66cRnKD"
      },
      "outputs": [],
      "source": [
        "## get unactionable admits for Test\n",
        "## Training 3 days"
      ]
    },
    {
      "cell_type": "code",
      "execution_count": null,
      "metadata": {
        "collapsed": true,
        "id": "1aOY3q91RnKD"
      },
      "outputs": [],
      "source": [
        "# want_early = pd.read_csv('./data/3days/less_3_days_notes.csv')\n",
        "want_early = pd.read_csv('./less_3_days_notes.csv')\n",
        "#early notes fold 1"
      ]
    },
    {
      "cell_type": "code",
      "execution_count": null,
      "metadata": {
        "collapsed": true,
        "id": "LH3K6f8JRnKD"
      },
      "outputs": [],
      "source": [
        "early_train = want_early[want_early.ID.isin(train_id_label.id)]"
      ]
    },
    {
      "cell_type": "code",
      "execution_count": null,
      "metadata": {
        "id": "71etCnh7RnKD",
        "colab": {
          "base_uri": "https://localhost:8080/"
        },
        "outputId": "aa47cf6a-f8e5-45fc-8f11-ae91b2fceaf9"
      },
      "outputs": [
        {
          "output_type": "execute_result",
          "data": {
            "text/plain": [
              "1.0    23901\n",
              "0.0    19808\n",
              "Name: Label, dtype: int64"
            ]
          },
          "metadata": {},
          "execution_count": 71
        }
      ],
      "source": [
        "early_train.Label.value_counts()"
      ]
    },
    {
      "cell_type": "code",
      "execution_count": null,
      "metadata": {
        "collapsed": true,
        "id": "fgrGad2YRnKD"
      },
      "outputs": [],
      "source": [
        "not_readmit_ID_more = df.sample(n=500, random_state=1)"
      ]
    },
    {
      "cell_type": "code",
      "execution_count": null,
      "metadata": {
        "collapsed": true,
        "id": "mUvsm-_4RnKE"
      },
      "outputs": [],
      "source": [
        "ear_train = want_early[want_early.ID.isin(not_readmit_ID_more)]"
      ]
    },
    {
      "cell_type": "code",
      "execution_count": null,
      "metadata": {
        "id": "CJCEbiQ5RnKE",
        "colab": {
          "base_uri": "https://localhost:8080/"
        },
        "outputId": "ec4dacc9-13d5-4052-dbf9-10ce2534095b"
      },
      "outputs": [
        {
          "output_type": "execute_result",
          "data": {
            "text/plain": [
              "0.0    4084\n",
              "Name: Label, dtype: int64"
            ]
          },
          "metadata": {},
          "execution_count": 74
        }
      ],
      "source": [
        "ear_train.Label.value_counts()"
      ]
    },
    {
      "cell_type": "code",
      "execution_count": null,
      "metadata": {
        "collapsed": true,
        "id": "_syLjrDpRnKE"
      },
      "outputs": [],
      "source": [
        "early_train_snippets = pd.concat([ear_train, early_train])"
      ]
    },
    {
      "cell_type": "code",
      "execution_count": null,
      "metadata": {
        "id": "eg8b9NHJRnKE",
        "colab": {
          "base_uri": "https://localhost:8080/"
        },
        "outputId": "840a3e81-3469-451d-8c88-0f8248bf665e"
      },
      "outputs": [
        {
          "output_type": "execute_result",
          "data": {
            "text/plain": [
              "array([], dtype=float64)"
            ]
          },
          "metadata": {},
          "execution_count": 76
        }
      ],
      "source": [
        "(pd.Index(ear_train.ID).intersection(pd.Index(early_train.ID))).values"
      ]
    },
    {
      "cell_type": "code",
      "execution_count": null,
      "metadata": {
        "collapsed": true,
        "id": "mHx0xqubRnKE"
      },
      "outputs": [],
      "source": [
        "early_train_snippets = early_train_snippets.sample(frac=1, random_state=1).reset_index(drop=True)"
      ]
    },
    {
      "cell_type": "code",
      "execution_count": null,
      "metadata": {
        "collapsed": true,
        "id": "kSgCM18tRnKE"
      },
      "outputs": [],
      "source": [
        "early_train_snippets.to_csv('./good_datasets/3days/train.csv')"
      ]
    },
    {
      "cell_type": "code",
      "execution_count": null,
      "metadata": {
        "collapsed": true,
        "id": "VxSIC2jeRnKF"
      },
      "outputs": [],
      "source": [
        "early_val = want_early[want_early.ID.isin(val_id_label.id)]"
      ]
    },
    {
      "cell_type": "code",
      "execution_count": null,
      "metadata": {
        "id": "axTfKHYoRnKF",
        "colab": {
          "base_uri": "https://localhost:8080/"
        },
        "outputId": "efbc7b1a-69bb-41e3-b056-b45bb31f7742"
      },
      "outputs": [
        {
          "output_type": "execute_result",
          "data": {
            "text/plain": [
              "1.0    2986\n",
              "0.0    2788\n",
              "Name: Label, dtype: int64"
            ]
          },
          "metadata": {},
          "execution_count": 80
        }
      ],
      "source": [
        "early_val.Label.value_counts()"
      ]
    },
    {
      "cell_type": "code",
      "execution_count": null,
      "metadata": {
        "collapsed": true,
        "id": "k-uENa_NRnKF"
      },
      "outputs": [],
      "source": [
        "early_val.to_csv('./good_datasets/3days/val.csv')"
      ]
    },
    {
      "cell_type": "code",
      "execution_count": null,
      "metadata": {
        "collapsed": true,
        "id": "B970l6_wRnKF"
      },
      "outputs": [],
      "source": [
        "actionable_ID_3days = df_adm1[df_adm1['STAY_DAYS'] >= 3].HADM_ID"
      ]
    },
    {
      "cell_type": "code",
      "execution_count": null,
      "metadata": {
        "collapsed": true,
        "id": "84SPDFGwRnKF"
      },
      "outputs": [],
      "source": [
        "test_actionable_id_label = test_id_label[test_id_label.id.isin(actionable_ID_3days)]"
      ]
    },
    {
      "cell_type": "code",
      "execution_count": null,
      "metadata": {
        "collapsed": true,
        "id": "2woxHBBuRnKF"
      },
      "outputs": [],
      "source": [
        "early_test = want_early[want_early.ID.isin(test_actionable_id_label.id)]"
      ]
    },
    {
      "cell_type": "code",
      "execution_count": null,
      "metadata": {
        "id": "cpS4mY1ERnKG",
        "colab": {
          "base_uri": "https://localhost:8080/"
        },
        "outputId": "544904c8-67af-4d22-e2be-2f25e487ebf3"
      },
      "outputs": [
        {
          "output_type": "execute_result",
          "data": {
            "text/plain": [
              "1.0    2904\n",
              "0.0    2537\n",
              "Name: Label, dtype: int64"
            ]
          },
          "metadata": {},
          "execution_count": 86
        }
      ],
      "source": [
        "early_test.Label.value_counts()"
      ]
    },
    {
      "cell_type": "code",
      "execution_count": null,
      "metadata": {
        "collapsed": true,
        "id": "zta0s88oRnKG"
      },
      "outputs": [],
      "source": [
        "early_test.to_csv('./good_datasets/3days/test.csv')"
      ]
    },
    {
      "cell_type": "markdown",
      "metadata": {
        "id": "1NkPFs3LRnKG"
      },
      "source": [
        "## Now for two days test set"
      ]
    },
    {
      "cell_type": "code",
      "execution_count": null,
      "metadata": {
        "collapsed": true,
        "id": "j76TZLUARnKG"
      },
      "outputs": [],
      "source": [
        "#want_2days = pd.read_csv('less_2_days_notes.csv')\n",
        "want_2days = pd.read_csv('./less_2_days_notes.csv')"
      ]
    },
    {
      "cell_type": "code",
      "execution_count": null,
      "metadata": {
        "collapsed": true,
        "id": "a1n8lDNGRnKG"
      },
      "outputs": [],
      "source": [
        "actionable_ID_2days = df_adm1[df_adm1['STAY_DAYS'] >= 2].HADM_ID"
      ]
    },
    {
      "cell_type": "code",
      "execution_count": null,
      "metadata": {
        "collapsed": true,
        "id": "aghz0iyFRnKG"
      },
      "outputs": [],
      "source": [
        "test_actionable_id_label_2days = test_id_label[test_id_label.id.isin(actionable_ID_2days)]"
      ]
    },
    {
      "cell_type": "code",
      "execution_count": null,
      "metadata": {
        "collapsed": true,
        "id": "5sVLTRK5RnKG"
      },
      "outputs": [],
      "source": [
        "early_test_2days = want_2days[want_2days.ID.isin(test_actionable_id_label_2days.id)]"
      ]
    },
    {
      "cell_type": "code",
      "execution_count": null,
      "metadata": {
        "id": "BwydXnOCRnKH",
        "colab": {
          "base_uri": "https://localhost:8080/"
        },
        "outputId": "073f6fe2-72c4-4f5a-ebb9-6f84ead8434a"
      },
      "outputs": [
        {
          "output_type": "execute_result",
          "data": {
            "text/plain": [
              "1.0    2197\n",
              "0.0    1857\n",
              "Name: Label, dtype: int64"
            ]
          },
          "metadata": {},
          "execution_count": 92
        }
      ],
      "source": [
        "early_test_2days.Label.value_counts()"
      ]
    },
    {
      "cell_type": "code",
      "execution_count": null,
      "metadata": {
        "collapsed": true,
        "id": "N8WGnGDjRnKH"
      },
      "outputs": [],
      "source": [
        "early_test_2days.to_csv('./good_datasets/2days/test.csv')"
      ]
    },
    {
      "cell_type": "markdown",
      "metadata": {
        "id": "-2k3oL4lRnKH"
      },
      "source": [
        "## To get other 4 fold Data"
      ]
    },
    {
      "cell_type": "code",
      "execution_count": null,
      "metadata": {
        "collapsed": true,
        "id": "v_SjxFCqRnKH"
      },
      "outputs": [],
      "source": [
        "#fold 1: id_test, id_val, id_train\n",
        "except_fold1 = pd.concat([not_readmit_ID_use, readmit_ID, id_test, id_val])"
      ]
    },
    {
      "cell_type": "code",
      "execution_count": null,
      "metadata": {
        "collapsed": true,
        "id": "eUqB75KYRnKH"
      },
      "outputs": [],
      "source": [
        "except_fold1 = except_fold1.drop_duplicates(keep=False)"
      ]
    },
    {
      "cell_type": "code",
      "execution_count": null,
      "metadata": {
        "collapsed": true,
        "id": "Jl-Si6KDRnKH"
      },
      "outputs": [],
      "source": [
        "except_fold1_f = (pd.Index(except_fold1).intersection(pd.Index(readmit_ID))).values\n",
        "except_fold1_t = (pd.Index(except_fold1).intersection(pd.Index(not_readmit_ID_use))).values"
      ]
    },
    {
      "cell_type": "code",
      "execution_count": null,
      "metadata": {
        "id": "0vTHy95mRnKH",
        "colab": {
          "base_uri": "https://localhost:8080/"
        },
        "outputId": "ac7d5dc0-eb07-4948-cfbd-5944207a1813"
      },
      "outputs": [
        {
          "output_type": "execute_result",
          "data": {
            "text/plain": [
              "4740"
            ]
          },
          "metadata": {},
          "execution_count": 97
        }
      ],
      "source": [
        "len(except_fold1)"
      ]
    },
    {
      "cell_type": "code",
      "execution_count": null,
      "metadata": {
        "id": "6QtYdmwJRnKI",
        "colab": {
          "base_uri": "https://localhost:8080/"
        },
        "outputId": "49fc27b2-cf29-4bd0-8ff4-a19f0e0d45b1"
      },
      "outputs": [
        {
          "output_type": "execute_result",
          "data": {
            "text/plain": [
              "2370"
            ]
          },
          "metadata": {},
          "execution_count": 98
        }
      ],
      "source": [
        "len(except_fold1_f)"
      ]
    },
    {
      "cell_type": "code",
      "execution_count": null,
      "metadata": {
        "collapsed": true,
        "id": "Ol9BeVWaRnKI"
      },
      "outputs": [],
      "source": [
        "folds = except_fold1.reset_index(drop=True)"
      ]
    },
    {
      "cell_type": "code",
      "execution_count": null,
      "metadata": {
        "id": "r9Eg9jftRnKI",
        "colab": {
          "base_uri": "https://localhost:8080/"
        },
        "outputId": "efa72a39-aac1-4848-dc5d-40d1abe81fde"
      },
      "outputs": [
        {
          "output_type": "execute_result",
          "data": {
            "text/plain": [
              "4"
            ]
          },
          "metadata": {},
          "execution_count": 100
        }
      ],
      "source": [
        "from sklearn.model_selection import KFold\n",
        "kf = KFold(n_splits = 4, shuffle = True, random_state = 1)\n",
        "kf.get_n_splits(except_fold1_f)"
      ]
    },
    {
      "cell_type": "code",
      "execution_count": null,
      "metadata": {
        "collapsed": true,
        "id": "xrMYzCO9RnKI"
      },
      "outputs": [],
      "source": [
        "re={}\n",
        "not_re={}\n",
        "for i, (train_index, test_index) in  enumerate(kf.split(except_fold1_f)):\n",
        "    #print(\"TRAIN:\", train_index) \n",
        "    #print(\"TEST:\", test_index)\n",
        "    not_re[i+1] = except_fold1_f[test_index]"
      ]
    },
    {
      "cell_type": "code",
      "execution_count": null,
      "metadata": {
        "id": "zGFgQkKkRnKI",
        "colab": {
          "base_uri": "https://localhost:8080/"
        },
        "outputId": "b9b5ebe2-0b35-4ed7-abcd-5aeafd093236"
      },
      "outputs": [
        {
          "output_type": "execute_result",
          "data": {
            "text/plain": [
              "593"
            ]
          },
          "metadata": {},
          "execution_count": 102
        }
      ],
      "source": [
        "len(not_re[2])"
      ]
    },
    {
      "cell_type": "code",
      "execution_count": null,
      "metadata": {
        "collapsed": true,
        "id": "WSL_JbkURnKJ"
      },
      "outputs": [],
      "source": [
        "kf.get_n_splits(except_fold1_t)\n",
        "for i, (train_index, test_index) in  enumerate(kf.split(except_fold1_t)):\n",
        "    #print(\"TRAIN:\", train_index) \n",
        "    #print(\"TEST:\", test_index)\n",
        "    re[i+1] = except_fold1_t[test_index]"
      ]
    },
    {
      "cell_type": "code",
      "execution_count": null,
      "metadata": {
        "id": "zbTJT9CdRnKJ",
        "colab": {
          "base_uri": "https://localhost:8080/"
        },
        "outputId": "5daa2816-5b87-45bc-8e36-60939f56bac5"
      },
      "outputs": [
        {
          "output_type": "execute_result",
          "data": {
            "text/plain": [
              "593"
            ]
          },
          "metadata": {},
          "execution_count": 104
        }
      ],
      "source": [
        "sum(df_adm1[df_adm1.HADM_ID.isin(not_re[2])].OUTPUT_LABEL)"
      ]
    },
    {
      "cell_type": "code",
      "execution_count": null,
      "metadata": {
        "id": "PI8ZmhU-RnKJ",
        "colab": {
          "base_uri": "https://localhost:8080/"
        },
        "outputId": "d8fa801d-4e27-44aa-a4e0-b9e8f42f1c9e"
      },
      "outputs": [
        {
          "output_type": "execute_result",
          "data": {
            "text/plain": [
              "array([], dtype=int64)"
            ]
          },
          "metadata": {},
          "execution_count": 105
        }
      ],
      "source": [
        "np.intersect1d(re[1],re[4])"
      ]
    },
    {
      "cell_type": "code",
      "execution_count": null,
      "metadata": {
        "collapsed": true,
        "id": "0B6MkIrPRnKJ"
      },
      "outputs": [],
      "source": [
        "val_id_folds={}\n",
        "test_id_folds={}\n",
        "\n",
        "# Add fold1 for val\n",
        "val_id_fold1_t = pd.Series(pd.Index(id_val).intersection(pd.Index(readmit_ID)).values)\n",
        "val_id_fold1_f = pd.Series(pd.Index(id_val).intersection(pd.Index(not_readmit_ID_use)).values)\n",
        "\n",
        "val_id_folds[0] = pd.concat([val_id_fold1_t, val_id_fold1_f]).values\n",
        "\n",
        "# Add fold1 for test\n",
        "test_id_fold1_t = pd.Series(pd.Index(id_test).intersection(pd.Index(readmit_ID)).values)\n",
        "test_id_fold1_f = pd.Series(pd.Index(id_test).intersection(pd.Index(not_readmit_ID_use)).values)\n",
        "\n",
        "test_id_folds[0] = pd.concat([test_id_fold1_t, test_id_fold1_f]).values\n",
        "\n",
        "for i in range(1,5):\n",
        "    ind_r = pd.Series(re[i]).sample(frac=0.5,random_state=1)\n",
        "    d = pd.concat([ind_r, pd.Series(re[i])])\n",
        "    ind_r1 = d.drop_duplicates(keep=False)\n",
        "    ind_nr = pd.Series(not_re[i]).sample(frac=0.5,random_state=1)\n",
        "    d = pd.concat([ind_nr, pd.Series(not_re[i])])\n",
        "    ind_nr1 = d.drop_duplicates(keep=False)\n",
        "    \n",
        "    val_id_folds[i] = pd.concat([ind_r, ind_nr]).values\n",
        "    test_id_folds[i] = pd.concat([ind_r1, ind_nr1]).values"
      ]
    },
    {
      "cell_type": "code",
      "execution_count": null,
      "metadata": {
        "id": "UVrR1SbkRnKJ",
        "colab": {
          "base_uri": "https://localhost:8080/"
        },
        "outputId": "c3f75054-be71-49d0-a542-99f033c435d0"
      },
      "outputs": [
        {
          "output_type": "execute_result",
          "data": {
            "text/plain": [
              "array([], dtype=int64)"
            ]
          },
          "metadata": {},
          "execution_count": 107
        }
      ],
      "source": [
        "np.intersect1d(test_id_folds[0],val_id_folds[0])"
      ]
    },
    {
      "cell_type": "code",
      "execution_count": null,
      "metadata": {
        "id": "1Edok7yRRnKK",
        "colab": {
          "base_uri": "https://localhost:8080/"
        },
        "outputId": "90ed18d3-9a12-48a1-8374-4211631649b5"
      },
      "outputs": [
        {
          "output_type": "execute_result",
          "data": {
            "text/plain": [
              "297"
            ]
          },
          "metadata": {},
          "execution_count": 108
        }
      ],
      "source": [
        "sum(df_adm1[df_adm1.HADM_ID.isin(test_id_folds[0])].OUTPUT_LABEL)"
      ]
    },
    {
      "cell_type": "code",
      "execution_count": null,
      "metadata": {
        "collapsed": true,
        "id": "-LTWkPOcRnKK"
      },
      "outputs": [],
      "source": [
        "train_id_folds={}\n",
        "for i in range(5):\n",
        "    all_index = pd.concat([not_readmit_ID_use, readmit_ID, pd.Series(test_id_folds[i]), pd.Series(val_id_folds[i])])\n",
        "    train_id_folds[i] = all_index.drop_duplicates(keep=False).values                             "
      ]
    },
    {
      "cell_type": "code",
      "execution_count": null,
      "metadata": {
        "id": "QkpBFxelRnKK",
        "colab": {
          "base_uri": "https://localhost:8080/"
        },
        "outputId": "07939e21-3cc0-4c01-dca1-6f8bf209bff5"
      },
      "outputs": [
        {
          "output_type": "execute_result",
          "data": {
            "text/plain": [
              "array([], dtype=int64)"
            ]
          },
          "metadata": {},
          "execution_count": 110
        }
      ],
      "source": [
        "np.intersect1d(test_id_folds[3],train_id_folds[3])"
      ]
    },
    {
      "cell_type": "markdown",
      "metadata": {
        "id": "FKVqm5noRnKK"
      },
      "source": [
        "## folds discharge"
      ]
    },
    {
      "cell_type": "markdown",
      "metadata": {
        "id": "MAumxFgLRnKK"
      },
      "source": [
        "# adjust the i in the following block to get different fold. Here, i = 0 means fold2, i=1 means fold 3, ... because we get fold 1 without using the Kfold library"
      ]
    },
    {
      "cell_type": "code",
      "execution_count": null,
      "metadata": {
        "id": "3xUcGFTkRnKK",
        "colab": {
          "base_uri": "https://localhost:8080/"
        },
        "outputId": "b225f068-ced1-40c9-9af5-ca9ac0a593d2"
      },
      "outputs": [
        {
          "output_type": "execute_result",
          "data": {
            "text/plain": [
              "1.0    13134\n",
              "0.0    11262\n",
              "Name: Label, dtype: int64"
            ]
          },
          "metadata": {},
          "execution_count": 135
        }
      ],
      "source": [
        "want=pd.read_csv('./readmission_task.csv')\n",
        "df = pd.concat([not_readmit_ID_use, not_readmit_ID])\n",
        "df = df.drop_duplicates(keep=False)\n",
        "\n",
        "i=0\n",
        "discharge_train = want[want.ID.isin(train_id_folds[i])]\n",
        "discharge_val = want[want.ID.isin(val_id_folds[i])]\n",
        "discharge_test = want[want.ID.isin(test_id_folds[i])]\n",
        "\n",
        "discharge_train.Label.value_counts()"
      ]
    },
    {
      "cell_type": "code",
      "execution_count": null,
      "metadata": {
        "id": "ewu3wfY2RnKL",
        "colab": {
          "base_uri": "https://localhost:8080/"
        },
        "outputId": "20f63648-e059-4ed1-b66d-ca31027f99fa"
      },
      "outputs": [
        {
          "output_type": "execute_result",
          "data": {
            "text/plain": [
              "1.0    1697\n",
              "0.0    1366\n",
              "Name: Label, dtype: int64"
            ]
          },
          "metadata": {},
          "execution_count": 136
        }
      ],
      "source": [
        "discharge_test.Label.value_counts()"
      ]
    },
    {
      "cell_type": "code",
      "execution_count": null,
      "metadata": {
        "id": "GuAyRVEFRnKL",
        "colab": {
          "base_uri": "https://localhost:8080/"
        },
        "outputId": "afa4d41f-b141-4080-cb78-c60349a4c3c1"
      },
      "outputs": [
        {
          "output_type": "execute_result",
          "data": {
            "text/plain": [
              "2015"
            ]
          },
          "metadata": {},
          "execution_count": 137
        }
      ],
      "source": [
        "dis_train = want[want.ID.isin(df.sample(n=437, random_state=1))]\n",
        "len(dis_train)"
      ]
    },
    {
      "cell_type": "code",
      "execution_count": null,
      "metadata": {
        "id": "wLE2NxdQRnKL",
        "colab": {
          "base_uri": "https://localhost:8080/"
        },
        "outputId": "bc2a7928-72f3-437e-95a6-585c216de748"
      },
      "outputs": [
        {
          "output_type": "execute_result",
          "data": {
            "text/plain": [
              "array([], dtype=float64)"
            ]
          },
          "metadata": {},
          "execution_count": 138
        }
      ],
      "source": [
        "(pd.Index(dis_train.ID).intersection(pd.Index(discharge_train.ID))).values\n"
      ]
    },
    {
      "cell_type": "code",
      "execution_count": null,
      "metadata": {
        "collapsed": true,
        "id": "_xUm3i2pRnKL"
      },
      "outputs": [],
      "source": [
        "discharge_train_snippets = pd.concat([dis_train, discharge_train])\n",
        "discharge_train_snippets = discharge_train_snippets.sample(frac=1, random_state=1).reset_index(drop=True)"
      ]
    },
    {
      "cell_type": "code",
      "execution_count": null,
      "metadata": {
        "collapsed": true,
        "id": "3hZdDc-vRnKL"
      },
      "outputs": [],
      "source": [
        "file = './good_datasets/fold'+str(i+2)+'/discharge/train.csv'\n",
        "discharge_train_snippets.to_csv(file)"
      ]
    },
    {
      "cell_type": "code",
      "execution_count": null,
      "metadata": {
        "collapsed": true,
        "id": "3CPO72ufRnKM"
      },
      "outputs": [],
      "source": [
        "file = './good_datasets/fold'+str(i+2)+'/discharge/val.csv'\n",
        "discharge_val.to_csv(file)\n",
        "file = './good_datasets/fold'+str(i+2)+'/discharge/test.csv'\n",
        "discharge_test.to_csv(file)"
      ]
    },
    {
      "cell_type": "markdown",
      "metadata": {
        "id": "PVwRO0d9RnKM"
      },
      "source": [
        "## folds Early Notes"
      ]
    },
    {
      "cell_type": "code",
      "execution_count": null,
      "metadata": {
        "collapsed": true,
        "id": "kU-CDPO2RnKM"
      },
      "outputs": [],
      "source": [
        "want_early = pd.read_csv('./less_3_days_notes.csv')"
      ]
    },
    {
      "cell_type": "code",
      "execution_count": null,
      "metadata": {
        "collapsed": true,
        "id": "bP3wxvQFRnKM"
      },
      "outputs": [],
      "source": [
        "#want_2days = pd.read_csv('./less_2_days_notes.csv')\n",
        "\n",
        "# want_2days = pd.read_csv('./data/2days/test.csv')\n",
        "actionable_ID_3days = df_adm1[df_adm1['STAY_DAYS'] >= 3].HADM_ID\n",
        "actionable_ID_2days = df_adm1[df_adm1['STAY_DAYS'] >= 2].HADM_ID"
      ]
    },
    {
      "cell_type": "code",
      "execution_count": null,
      "metadata": {
        "id": "utjEFi80RnKM",
        "colab": {
          "base_uri": "https://localhost:8080/"
        },
        "outputId": "630aed0b-ed50-42a2-f1aa-a6c16ebbdc29"
      },
      "outputs": [
        {
          "output_type": "execute_result",
          "data": {
            "text/plain": [
              "1.0    24485\n",
              "0.0    20266\n",
              "Name: Label, dtype: int64"
            ]
          },
          "metadata": {},
          "execution_count": 187
        }
      ],
      "source": [
        "i=3\n",
        "early_train = want_early[want_early.ID.isin(train_id_folds[i])]\n",
        "early_val = want_early[want_early.ID.isin(val_id_folds[i])]\n",
        "test_actionable_id_3days = pd.Series(test_id_folds[i])[pd.Series(test_id_folds[i]).isin(actionable_ID_3days)]\n",
        "early_test = want_early[want_early.ID.isin(test_actionable_id_3days)]\n",
        "\n",
        "early_train.Label.value_counts()"
      ]
    },
    {
      "cell_type": "code",
      "execution_count": null,
      "metadata": {
        "id": "Xl9IwZXARnKM",
        "colab": {
          "base_uri": "https://localhost:8080/"
        },
        "outputId": "b0e176df-5a61-4ba9-d92b-339bc5367f8b"
      },
      "outputs": [
        {
          "output_type": "execute_result",
          "data": {
            "text/plain": [
              "1.0    2523\n",
              "0.0    2295\n",
              "Name: Label, dtype: int64"
            ]
          },
          "metadata": {},
          "execution_count": 188
        }
      ],
      "source": [
        "early_test.Label.value_counts()"
      ]
    },
    {
      "cell_type": "code",
      "execution_count": null,
      "metadata": {
        "id": "fxRLSd56RnKN",
        "colab": {
          "base_uri": "https://localhost:8080/"
        },
        "outputId": "e7c95efe-3c5a-4e01-b172-058c86d00963"
      },
      "outputs": [
        {
          "output_type": "execute_result",
          "data": {
            "text/plain": [
              "3161"
            ]
          },
          "metadata": {},
          "execution_count": 189
        }
      ],
      "source": [
        "ear_train = want_early[want_early.ID.isin(df.sample(n=400, random_state=1))]\n",
        "len(ear_train)"
      ]
    },
    {
      "cell_type": "code",
      "execution_count": null,
      "metadata": {
        "collapsed": true,
        "id": "8zaW2RfuRnKN"
      },
      "outputs": [],
      "source": [
        "early_train_snippets = pd.concat([ear_train, early_train])\n",
        "early_train_snippets = early_train_snippets.sample(frac=1, random_state=1).reset_index(drop=True)"
      ]
    },
    {
      "cell_type": "code",
      "execution_count": null,
      "metadata": {
        "id": "utxwbmBdRnKN",
        "colab": {
          "base_uri": "https://localhost:8080/"
        },
        "outputId": "ab63467c-215b-4aac-a1fb-c568bc696cfb"
      },
      "outputs": [
        {
          "output_type": "execute_result",
          "data": {
            "text/plain": [
              "1.0    24485\n",
              "0.0    23427\n",
              "Name: Label, dtype: int64"
            ]
          },
          "metadata": {},
          "execution_count": 191
        }
      ],
      "source": [
        "early_train_snippets.Label.value_counts()"
      ]
    },
    {
      "cell_type": "code",
      "execution_count": null,
      "metadata": {
        "collapsed": true,
        "id": "HGDFZP7sRnKN"
      },
      "outputs": [],
      "source": [
        "file = './good_datasets/fold'+str(i+2)+'/3days/train.csv'\n",
        "early_train_snippets.to_csv(file)"
      ]
    },
    {
      "cell_type": "code",
      "execution_count": null,
      "metadata": {
        "collapsed": true,
        "id": "5CveN6TlRnKN"
      },
      "outputs": [],
      "source": [
        "file = './good_datasets/fold'+str(i+2)+'/3days/val.csv'\n",
        "early_val.to_csv(file)\n",
        "file = './good_datasets/fold'+str(i+2)+'/3days/test.csv'\n",
        "early_test.to_csv(file)"
      ]
    },
    {
      "cell_type": "code",
      "execution_count": null,
      "metadata": {
        "id": "rN2fKMbQRnKN",
        "colab": {
          "base_uri": "https://localhost:8080/"
        },
        "outputId": "c5d70242-d573-4401-f85b-e943dc3c36bc"
      },
      "outputs": [
        {
          "output_type": "execute_result",
          "data": {
            "text/plain": [
              "array([], dtype=object)"
            ]
          },
          "metadata": {},
          "execution_count": 194
        }
      ],
      "source": [
        "(pd.Index(early_val.TEXT).intersection(pd.Index(early_train_snippets.TEXT))).values"
      ]
    },
    {
      "cell_type": "code",
      "execution_count": null,
      "metadata": {
        "collapsed": true,
        "id": "25unOEwdRnKO"
      },
      "outputs": [],
      "source": [
        "test_actionable_id_2days = pd.Series(test_id_folds[i])[pd.Series(test_id_folds[i]).isin(actionable_ID_2days)]"
      ]
    },
    {
      "cell_type": "code",
      "execution_count": null,
      "metadata": {
        "id": "DEyu_iosRnKO",
        "colab": {
          "base_uri": "https://localhost:8080/"
        },
        "outputId": "89380a7e-1e68-427c-f4d5-23d0e51eb91f"
      },
      "outputs": [
        {
          "output_type": "execute_result",
          "data": {
            "text/plain": [
              "559"
            ]
          },
          "metadata": {},
          "execution_count": 196
        }
      ],
      "source": [
        "len(test_actionable_id_2days)"
      ]
    },
    {
      "cell_type": "code",
      "execution_count": null,
      "metadata": {
        "id": "_XRoWPztRnKO",
        "colab": {
          "base_uri": "https://localhost:8080/"
        },
        "outputId": "351f5237-4152-4f2f-ce49-de9e4709dd8f"
      },
      "outputs": [
        {
          "output_type": "execute_result",
          "data": {
            "text/plain": [
              "1.0    1810\n",
              "0.0    1809\n",
              "Name: Label, dtype: int64"
            ]
          },
          "metadata": {},
          "execution_count": 197
        }
      ],
      "source": [
        "early_test_2days = want_2days[want_2days.ID.isin(test_actionable_id_2days)]\n",
        "early_test_2days.Label.value_counts()"
      ]
    },
    {
      "cell_type": "code",
      "execution_count": null,
      "metadata": {
        "collapsed": true,
        "id": "xD7n2I9URnKO"
      },
      "outputs": [],
      "source": [
        "early_test_2days.to_csv('./good_datasets/fold'+str(i+2)+'/2days/test.csv')"
      ]
    }
  ],
  "metadata": {
    "kernelspec": {
      "display_name": "Python 3",
      "language": "python",
      "name": "python3"
    },
    "language_info": {
      "codemirror_mode": {
        "name": "ipython",
        "version": 3
      },
      "file_extension": ".py",
      "mimetype": "text/x-python",
      "name": "python",
      "nbconvert_exporter": "python",
      "pygments_lexer": "ipython3",
      "version": "3.7.7"
    },
    "colab": {
      "name": "Dataset_Split.ipynb",
      "provenance": [],
      "collapsed_sections": [
        "-2k3oL4lRnKH",
        "FKVqm5noRnKK",
        "MAumxFgLRnKK",
        "PVwRO0d9RnKM"
      ]
    },
    "accelerator": "TPU"
  },
  "nbformat": 4,
  "nbformat_minor": 0
}